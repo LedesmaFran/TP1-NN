{
 "cells": [
  {
   "cell_type": "code",
   "execution_count": 88,
   "metadata": {},
   "outputs": [],
   "source": [
    "import pandas as pd\n",
    "from sklearn import linear_model\n",
    "from sklearn.metrics import mean_squared_error, r2_score\n",
    "from sklearn.model_selection import train_test_split\n",
    "import matplotlib.pyplot as plt\n",
    "from sklearn.preprocessing import PolynomialFeatures\n"
   ]
  },
  {
   "cell_type": "markdown",
   "metadata": {},
   "source": [
    "### Attribute Information:\n",
    "\n",
    "- RMSD-Size of the residue.\n",
    "- F1 - Total surface area.\n",
    "- F2 - Non polar exposed area.\n",
    "- F3 - Fractional area of exposed non polar residue.\n",
    "- F4 - Fractional area of exposed non polar part of residue.\n",
    "- F5 - Molecular mass weighted exposed area.\n",
    "- F6 - Average deviation from standard exposed area of residue.\n",
    "- F7 - Euclidian distance.\n",
    "- F8 - Secondary structure penalty.\n",
    "- F9 - Spacial Distribution constraints (N,K Value)"
   ]
  },
  {
   "cell_type": "code",
   "execution_count": 89,
   "metadata": {},
   "outputs": [],
   "source": [
    "columns = [\"RMSD\",\"F1\",\"F2\",\"F3\",\"F4\",\"F5\",\"F6\",\"F7\",\"F8\",\"F9\"]\n",
    "df = pd.read_csv(\"CASP.csv\")"
   ]
  },
  {
   "cell_type": "code",
   "execution_count": 90,
   "metadata": {},
   "outputs": [
    {
     "data": {
      "text/html": [
       "<div>\n",
       "<style scoped>\n",
       "    .dataframe tbody tr th:only-of-type {\n",
       "        vertical-align: middle;\n",
       "    }\n",
       "\n",
       "    .dataframe tbody tr th {\n",
       "        vertical-align: top;\n",
       "    }\n",
       "\n",
       "    .dataframe thead th {\n",
       "        text-align: right;\n",
       "    }\n",
       "</style>\n",
       "<table border=\"1\" class=\"dataframe\">\n",
       "  <thead>\n",
       "    <tr style=\"text-align: right;\">\n",
       "      <th></th>\n",
       "      <th>RMSD</th>\n",
       "      <th>F1</th>\n",
       "      <th>F2</th>\n",
       "      <th>F3</th>\n",
       "      <th>F4</th>\n",
       "      <th>F5</th>\n",
       "      <th>F6</th>\n",
       "      <th>F7</th>\n",
       "      <th>F8</th>\n",
       "      <th>F9</th>\n",
       "    </tr>\n",
       "  </thead>\n",
       "  <tbody>\n",
       "    <tr>\n",
       "      <th>count</th>\n",
       "      <td>45730.000000</td>\n",
       "      <td>45730.000000</td>\n",
       "      <td>45730.000000</td>\n",
       "      <td>45730.000000</td>\n",
       "      <td>45730.000000</td>\n",
       "      <td>4.573000e+04</td>\n",
       "      <td>45730.000000</td>\n",
       "      <td>45730.000000</td>\n",
       "      <td>45730.000000</td>\n",
       "      <td>45730.000000</td>\n",
       "    </tr>\n",
       "    <tr>\n",
       "      <th>mean</th>\n",
       "      <td>7.748528</td>\n",
       "      <td>9871.596995</td>\n",
       "      <td>3017.367175</td>\n",
       "      <td>0.302392</td>\n",
       "      <td>103.492433</td>\n",
       "      <td>1.368299e+06</td>\n",
       "      <td>145.638061</td>\n",
       "      <td>3989.755990</td>\n",
       "      <td>69.975071</td>\n",
       "      <td>34.523664</td>\n",
       "    </tr>\n",
       "    <tr>\n",
       "      <th>std</th>\n",
       "      <td>6.118312</td>\n",
       "      <td>4058.138034</td>\n",
       "      <td>1464.324663</td>\n",
       "      <td>0.062886</td>\n",
       "      <td>55.424985</td>\n",
       "      <td>5.640367e+05</td>\n",
       "      <td>69.999230</td>\n",
       "      <td>1993.574575</td>\n",
       "      <td>56.493443</td>\n",
       "      <td>5.979755</td>\n",
       "    </tr>\n",
       "    <tr>\n",
       "      <th>min</th>\n",
       "      <td>0.000000</td>\n",
       "      <td>2392.050000</td>\n",
       "      <td>403.500000</td>\n",
       "      <td>0.092500</td>\n",
       "      <td>10.310100</td>\n",
       "      <td>3.194902e+05</td>\n",
       "      <td>31.970400</td>\n",
       "      <td>0.000000</td>\n",
       "      <td>0.000000</td>\n",
       "      <td>15.228000</td>\n",
       "    </tr>\n",
       "    <tr>\n",
       "      <th>25%</th>\n",
       "      <td>2.305000</td>\n",
       "      <td>6936.680000</td>\n",
       "      <td>1979.045000</td>\n",
       "      <td>0.258740</td>\n",
       "      <td>63.563900</td>\n",
       "      <td>9.535912e+05</td>\n",
       "      <td>94.757500</td>\n",
       "      <td>3165.322500</td>\n",
       "      <td>31.000000</td>\n",
       "      <td>30.424725</td>\n",
       "    </tr>\n",
       "    <tr>\n",
       "      <th>50%</th>\n",
       "      <td>5.030000</td>\n",
       "      <td>8898.805000</td>\n",
       "      <td>2668.155000</td>\n",
       "      <td>0.300150</td>\n",
       "      <td>87.740800</td>\n",
       "      <td>1.237219e+06</td>\n",
       "      <td>126.176000</td>\n",
       "      <td>3840.170000</td>\n",
       "      <td>54.000000</td>\n",
       "      <td>35.299300</td>\n",
       "    </tr>\n",
       "    <tr>\n",
       "      <th>75%</th>\n",
       "      <td>13.379000</td>\n",
       "      <td>12126.150000</td>\n",
       "      <td>3786.410000</td>\n",
       "      <td>0.342890</td>\n",
       "      <td>133.646750</td>\n",
       "      <td>1.690920e+06</td>\n",
       "      <td>181.468500</td>\n",
       "      <td>4644.192500</td>\n",
       "      <td>91.000000</td>\n",
       "      <td>38.870800</td>\n",
       "    </tr>\n",
       "    <tr>\n",
       "      <th>max</th>\n",
       "      <td>20.999000</td>\n",
       "      <td>40034.900000</td>\n",
       "      <td>15312.000000</td>\n",
       "      <td>0.577690</td>\n",
       "      <td>369.317000</td>\n",
       "      <td>5.472011e+06</td>\n",
       "      <td>598.408000</td>\n",
       "      <td>105948.170000</td>\n",
       "      <td>350.000000</td>\n",
       "      <td>55.300900</td>\n",
       "    </tr>\n",
       "  </tbody>\n",
       "</table>\n",
       "</div>"
      ],
      "text/plain": [
       "               RMSD            F1            F2            F3            F4  \\\n",
       "count  45730.000000  45730.000000  45730.000000  45730.000000  45730.000000   \n",
       "mean       7.748528   9871.596995   3017.367175      0.302392    103.492433   \n",
       "std        6.118312   4058.138034   1464.324663      0.062886     55.424985   \n",
       "min        0.000000   2392.050000    403.500000      0.092500     10.310100   \n",
       "25%        2.305000   6936.680000   1979.045000      0.258740     63.563900   \n",
       "50%        5.030000   8898.805000   2668.155000      0.300150     87.740800   \n",
       "75%       13.379000  12126.150000   3786.410000      0.342890    133.646750   \n",
       "max       20.999000  40034.900000  15312.000000      0.577690    369.317000   \n",
       "\n",
       "                 F5            F6             F7            F8            F9  \n",
       "count  4.573000e+04  45730.000000   45730.000000  45730.000000  45730.000000  \n",
       "mean   1.368299e+06    145.638061    3989.755990     69.975071     34.523664  \n",
       "std    5.640367e+05     69.999230    1993.574575     56.493443      5.979755  \n",
       "min    3.194902e+05     31.970400       0.000000      0.000000     15.228000  \n",
       "25%    9.535912e+05     94.757500    3165.322500     31.000000     30.424725  \n",
       "50%    1.237219e+06    126.176000    3840.170000     54.000000     35.299300  \n",
       "75%    1.690920e+06    181.468500    4644.192500     91.000000     38.870800  \n",
       "max    5.472011e+06    598.408000  105948.170000    350.000000     55.300900  "
      ]
     },
     "execution_count": 90,
     "metadata": {},
     "output_type": "execute_result"
    }
   ],
   "source": [
    "df.describe()"
   ]
  },
  {
   "cell_type": "code",
   "execution_count": 91,
   "metadata": {},
   "outputs": [],
   "source": [
    "features = columns[1:]\n",
    "target = 'RMSD'"
   ]
  },
  {
   "cell_type": "code",
   "execution_count": 92,
   "metadata": {},
   "outputs": [],
   "source": [
    "input = df[features]\n",
    "output = df[target]"
   ]
  },
  {
   "cell_type": "code",
   "execution_count": 93,
   "metadata": {},
   "outputs": [],
   "source": [
    "seed = (-1)*80538738812075974**3 + 80435758145817515**3 + 12602123297335631**3\n",
    "input_train, input_test,output_train, output_test = train_test_split(input,output, test_size=0.3, random_state=seed)"
   ]
  },
  {
   "cell_type": "code",
   "execution_count": 94,
   "metadata": {},
   "outputs": [],
   "source": [
    "regr = linear_model.LinearRegression()"
   ]
  },
  {
   "cell_type": "code",
   "execution_count": 95,
   "metadata": {},
   "outputs": [
    {
     "data": {
      "text/html": [
       "<style>#sk-container-id-7 {color: black;background-color: white;}#sk-container-id-7 pre{padding: 0;}#sk-container-id-7 div.sk-toggleable {background-color: white;}#sk-container-id-7 label.sk-toggleable__label {cursor: pointer;display: block;width: 100%;margin-bottom: 0;padding: 0.3em;box-sizing: border-box;text-align: center;}#sk-container-id-7 label.sk-toggleable__label-arrow:before {content: \"▸\";float: left;margin-right: 0.25em;color: #696969;}#sk-container-id-7 label.sk-toggleable__label-arrow:hover:before {color: black;}#sk-container-id-7 div.sk-estimator:hover label.sk-toggleable__label-arrow:before {color: black;}#sk-container-id-7 div.sk-toggleable__content {max-height: 0;max-width: 0;overflow: hidden;text-align: left;background-color: #f0f8ff;}#sk-container-id-7 div.sk-toggleable__content pre {margin: 0.2em;color: black;border-radius: 0.25em;background-color: #f0f8ff;}#sk-container-id-7 input.sk-toggleable__control:checked~div.sk-toggleable__content {max-height: 200px;max-width: 100%;overflow: auto;}#sk-container-id-7 input.sk-toggleable__control:checked~label.sk-toggleable__label-arrow:before {content: \"▾\";}#sk-container-id-7 div.sk-estimator input.sk-toggleable__control:checked~label.sk-toggleable__label {background-color: #d4ebff;}#sk-container-id-7 div.sk-label input.sk-toggleable__control:checked~label.sk-toggleable__label {background-color: #d4ebff;}#sk-container-id-7 input.sk-hidden--visually {border: 0;clip: rect(1px 1px 1px 1px);clip: rect(1px, 1px, 1px, 1px);height: 1px;margin: -1px;overflow: hidden;padding: 0;position: absolute;width: 1px;}#sk-container-id-7 div.sk-estimator {font-family: monospace;background-color: #f0f8ff;border: 1px dotted black;border-radius: 0.25em;box-sizing: border-box;margin-bottom: 0.5em;}#sk-container-id-7 div.sk-estimator:hover {background-color: #d4ebff;}#sk-container-id-7 div.sk-parallel-item::after {content: \"\";width: 100%;border-bottom: 1px solid gray;flex-grow: 1;}#sk-container-id-7 div.sk-label:hover label.sk-toggleable__label {background-color: #d4ebff;}#sk-container-id-7 div.sk-serial::before {content: \"\";position: absolute;border-left: 1px solid gray;box-sizing: border-box;top: 0;bottom: 0;left: 50%;z-index: 0;}#sk-container-id-7 div.sk-serial {display: flex;flex-direction: column;align-items: center;background-color: white;padding-right: 0.2em;padding-left: 0.2em;position: relative;}#sk-container-id-7 div.sk-item {position: relative;z-index: 1;}#sk-container-id-7 div.sk-parallel {display: flex;align-items: stretch;justify-content: center;background-color: white;position: relative;}#sk-container-id-7 div.sk-item::before, #sk-container-id-7 div.sk-parallel-item::before {content: \"\";position: absolute;border-left: 1px solid gray;box-sizing: border-box;top: 0;bottom: 0;left: 50%;z-index: -1;}#sk-container-id-7 div.sk-parallel-item {display: flex;flex-direction: column;z-index: 1;position: relative;background-color: white;}#sk-container-id-7 div.sk-parallel-item:first-child::after {align-self: flex-end;width: 50%;}#sk-container-id-7 div.sk-parallel-item:last-child::after {align-self: flex-start;width: 50%;}#sk-container-id-7 div.sk-parallel-item:only-child::after {width: 0;}#sk-container-id-7 div.sk-dashed-wrapped {border: 1px dashed gray;margin: 0 0.4em 0.5em 0.4em;box-sizing: border-box;padding-bottom: 0.4em;background-color: white;}#sk-container-id-7 div.sk-label label {font-family: monospace;font-weight: bold;display: inline-block;line-height: 1.2em;}#sk-container-id-7 div.sk-label-container {text-align: center;}#sk-container-id-7 div.sk-container {/* jupyter's `normalize.less` sets `[hidden] { display: none; }` but bootstrap.min.css set `[hidden] { display: none !important; }` so we also need the `!important` here to be able to override the default hidden behavior on the sphinx rendered scikit-learn.org. See: https://github.com/scikit-learn/scikit-learn/issues/21755 */display: inline-block !important;position: relative;}#sk-container-id-7 div.sk-text-repr-fallback {display: none;}</style><div id=\"sk-container-id-7\" class=\"sk-top-container\"><div class=\"sk-text-repr-fallback\"><pre>LinearRegression()</pre><b>In a Jupyter environment, please rerun this cell to show the HTML representation or trust the notebook. <br />On GitHub, the HTML representation is unable to render, please try loading this page with nbviewer.org.</b></div><div class=\"sk-container\" hidden><div class=\"sk-item\"><div class=\"sk-estimator sk-toggleable\"><input class=\"sk-toggleable__control sk-hidden--visually\" id=\"sk-estimator-id-7\" type=\"checkbox\" checked><label for=\"sk-estimator-id-7\" class=\"sk-toggleable__label sk-toggleable__label-arrow\">LinearRegression</label><div class=\"sk-toggleable__content\"><pre>LinearRegression()</pre></div></div></div></div></div>"
      ],
      "text/plain": [
       "LinearRegression()"
      ]
     },
     "execution_count": 95,
     "metadata": {},
     "output_type": "execute_result"
    }
   ],
   "source": [
    "regr.fit(input_train, output_train)"
   ]
  },
  {
   "cell_type": "code",
   "execution_count": 96,
   "metadata": {},
   "outputs": [],
   "source": [
    "output_pred = regr.predict(input_test)"
   ]
  },
  {
   "cell_type": "markdown",
   "metadata": {},
   "source": [
    "Analizando el dataset como viene sin tener en cuenta EDA se obtienen los siguientes resultados."
   ]
  },
  {
   "cell_type": "code",
   "execution_count": 97,
   "metadata": {},
   "outputs": [
    {
     "name": "stdout",
     "output_type": "stream",
     "text": [
      "Coefficients: \n",
      " [ 1.67523149e-03  1.40033970e-03  1.82525088e+01 -1.08062674e-01\n",
      " -4.70064715e-06 -2.39016151e-02 -1.64317884e-04  1.52408263e-02\n",
      " -1.05161145e-01]\n",
      "Mean squared error: 27.10\n",
      "Coefficient of determination: 0.28\n"
     ]
    }
   ],
   "source": [
    "# The coefficients\n",
    "print(\"Coefficients: \\n\", regr.coef_)\n",
    "# The mean squared error\n",
    "print(\"Mean squared error: %.2f\" % mean_squared_error(output_test, output_pred))\n",
    "# The coefficient of determination: 1 is perfect prediction\n",
    "print(\"Coefficient of determination: %.2f\" % r2_score(output_test, output_pred))"
   ]
  },
  {
   "cell_type": "markdown",
   "metadata": {},
   "source": [
    "### A continuacion se busca mejorar la performance del predictor."
   ]
  },
  {
   "cell_type": "markdown",
   "metadata": {},
   "source": [
    "### Normalizando los valores del dataset"
   ]
  },
  {
   "cell_type": "code",
   "execution_count": 104,
   "metadata": {},
   "outputs": [
    {
     "name": "stdout",
     "output_type": "stream",
     "text": [
      "Coefficients: \n",
      " [ 3.90549468  2.16078031  1.10580568 -5.93348126 -1.54787225 -0.32617782\n",
      "  0.88654474 -0.58636628]\n",
      "Mean squared error: 27.10\n",
      "Coefficient of determination: 0.28\n"
     ]
    }
   ],
   "source": [
    "df_rmsd= df['RMSD']\n",
    "df = df.drop(columns='RMSD')\n",
    "df = (df-df.mean())/df.std()\n",
    "df = pd.concat([df,df_rmsd],axis=1)\n",
    "input = df[features]\n",
    "output = df[target]\n",
    "input_train, input_test,output_train, output_test = train_test_split(input,output, test_size=0.3, random_state=seed)\n",
    "regr = linear_model.LinearRegression()\n",
    "regr.fit(input_train, output_train)\n",
    "output_pred = regr.predict(input_test)\n",
    "# The coefficients\n",
    "print(\"Coefficients: \\n\", regr.coef_)\n",
    "# The mean squared error\n",
    "print(\"Mean squared error: %.2f\" % mean_squared_error(output_test, output_pred))\n",
    "# The coefficient of determination: 1 is perfect prediction\n",
    "print(\"Coefficient of determination: %.2f\" % r2_score(output_test, output_pred))"
   ]
  },
  {
   "cell_type": "code",
   "execution_count": 99,
   "metadata": {},
   "outputs": [],
   "source": [
    "# df = (df-df.mean())/df.std()\n",
    "# input = df[features]\n",
    "# output = df[target]\n",
    "# input_train, input_test,output_train, output_test = train_test_split(input,output, test_size=0.3, random_state=seed)\n",
    "# regr = linear_model.LinearRegression()\n",
    "# regr.fit(input_train, output_train)\n",
    "# output_pred = regr.predict(input_test)\n",
    "# # The coefficients\n",
    "# print(\"Coefficients: \\n\", regr.coef_)\n",
    "# # The mean squared error\n",
    "# print(\"Mean squared error: %.2f\" % mean_squared_error(output_test, output_pred))\n",
    "# # The coefficient of determination: 1 is perfect prediction\n",
    "# print(\"Coefficient of determination: %.2f\" % r2_score(output_test, output_pred))"
   ]
  },
  {
   "cell_type": "markdown",
   "metadata": {},
   "source": [
    "se observa que al normalizar, la metrica MSE no cambia"
   ]
  },
  {
   "cell_type": "markdown",
   "metadata": {},
   "source": [
    "### Elimino el feature F5 debido a que en el EDA se aprecia que tiene una fuerte correlacion con F1 y probablemente no aporte informacion."
   ]
  },
  {
   "cell_type": "code",
   "execution_count": 100,
   "metadata": {},
   "outputs": [
    {
     "name": "stdout",
     "output_type": "stream",
     "text": [
      "Coefficients: \n",
      " [ 9.62385863e-04  1.47561559e-03  1.75843367e+01 -1.07054270e-01\n",
      " -2.21127039e-02 -1.63614557e-04  1.56928785e-02 -9.80585721e-02]\n",
      "Mean squared error: 27.10\n",
      "Coefficient of determination: 0.28\n"
     ]
    }
   ],
   "source": [
    "bad_col = [\"F5\"]\n",
    "df = df.drop(bad_col, axis=1) #Elimino las conflictivas...\n",
    "for col in bad_col:\n",
    "    columns.remove(col)\n",
    "features = columns[1:]\n",
    "target = 'RMSD'\n",
    "input = df[features]\n",
    "output = df[target]\n",
    "input_train, input_test,output_train, output_test = train_test_split(input,output, test_size=0.3, random_state=seed)\n",
    "regr = linear_model.LinearRegression()\n",
    "regr.fit(input_train, output_train)\n",
    "output_pred = regr.predict(input_test)\n",
    "# The coefficients\n",
    "print(\"Coefficients: \\n\", regr.coef_)\n",
    "# The mean squared error\n",
    "print(\"Mean squared error: %.2f\" % mean_squared_error(output_test, output_pred))\n",
    "# The coefficient of determination: 1 is perfect prediction\n",
    "print(\"Coefficient of determination: %.2f\" % r2_score(output_test, output_pred))"
   ]
  },
  {
   "cell_type": "markdown",
   "metadata": {},
   "source": [
    "Efectivamente, no mejoro"
   ]
  },
  {
   "cell_type": "markdown",
   "metadata": {},
   "source": [
    "### Aplico Feature Engineering\n",
    "Busco aplicar features polinomiales de distinto orden para encontrar correlaciones no lineales entre las variables"
   ]
  },
  {
   "cell_type": "markdown",
   "metadata": {},
   "source": [
    "### orden 2"
   ]
  },
  {
   "cell_type": "code",
   "execution_count": 101,
   "metadata": {},
   "outputs": [
    {
     "name": "stdout",
     "output_type": "stream",
     "text": [
      "Coefficients: \n",
      " [ 8.80958146e-03  7.67103708e-01  2.24988850e+02 -9.98018177e-03\n",
      " -3.33016206e-01 -4.40913157e-04  5.11937644e-02  1.49806601e+00\n",
      "  2.60034523e-07  1.55452679e-07 -7.84693542e-01 -1.46517463e-05\n",
      " -2.92846955e-05  3.16353063e-08 -6.53703302e-06 -1.20487157e-04\n",
      " -1.73838759e-07  1.40397916e-02  2.39122161e-05 -2.41920826e-05\n",
      "  9.61479911e-08  6.79204982e-06  1.57652137e-04 -7.16840166e+01\n",
      " -3.61537564e-01  4.52374063e-01  1.39166866e-03 -1.29110786e-01\n",
      " -4.07639468e+00  1.26258920e-05  4.54203747e-04  5.38430596e-06\n",
      "  3.62195278e-04 -1.51423972e-03  1.06909803e-03 -7.37302068e-06\n",
      "  3.13306750e-04  5.05687228e-03  4.53336831e-09 -2.70389034e-06\n",
      " -6.40272452e-06 -2.87960763e-04  7.18269249e-04 -3.55433547e-03]\n",
      "Mean squared error: 24.22\n",
      "Coefficient of determination: 0.35\n"
     ]
    }
   ],
   "source": [
    "poly = PolynomialFeatures(2,include_bias=False)\n",
    "input = df[features]\n",
    "output = df[target]\n",
    "input = poly.fit_transform(input,)\n",
    "input_train, input_test,output_train, output_test = train_test_split(input,output, test_size=0.3, random_state=seed)\n",
    "regr = linear_model.LinearRegression()\n",
    "regr.fit(input_train, output_train)\n",
    "output_pred = regr.predict(input_test)\n",
    "# The coefficients\n",
    "print(\"Coefficients: \\n\", regr.coef_)\n",
    "# The mean squared error\n",
    "print(\"Mean squared error: %.2f\" % mean_squared_error(output_test, output_pred))\n",
    "# The coefficient of determination: 1 is perfect prediction\n",
    "print(\"Coefficient of determination: %.2f\" % r2_score(output_test, output_pred))"
   ]
  },
  {
   "cell_type": "markdown",
   "metadata": {},
   "source": [
    "### orden 3"
   ]
  },
  {
   "cell_type": "code",
   "execution_count": 102,
   "metadata": {},
   "outputs": [
    {
     "name": "stdout",
     "output_type": "stream",
     "text": [
      "Coefficients: \n",
      " [-2.60702730e-02 -8.96981017e-02  1.49142740e-01  1.13974534e+00\n",
      " -1.45680372e+00 -2.20714445e-02  2.85814569e+00 -2.48104788e+01\n",
      "  6.48718940e-06  2.26526058e-04  1.64682874e-01 -3.39529451e-04\n",
      " -2.30880702e-04  1.83329384e-06 -2.55333979e-04  4.16894688e-04\n",
      " -1.59214668e-03 -1.12145129e-01 -7.96314726e-02  4.35777740e-02\n",
      "  2.57185123e-03 -1.43295157e-03 -1.60524640e-01  5.31031844e-02\n",
      " -1.05624866e+01  2.07093084e+00  1.07845140e-01 -8.07585936e+00\n",
      " -2.28030378e+00  9.20300441e-03 -6.16045210e-04 -1.80068795e-04\n",
      "  9.35492718e-04  3.97845387e-02  7.89656907e-03 -6.28210296e-06\n",
      "  4.72531892e-03  3.98737670e-02  5.40934075e-08  4.32033188e-05\n",
      " -9.04517766e-05 -5.42883715e-03 -6.58516441e-02  5.60128105e-01\n",
      " -2.81008328e-10  1.23889832e-09 -2.54015581e-04  1.93044052e-08\n",
      "  1.41687080e-08 -9.88285009e-11  1.56969326e-09 -4.39382930e-09\n",
      " -1.35412481e-09  1.62617098e-03 -6.38056941e-08 -7.14010708e-08\n",
      "  3.93159283e-10 -1.27467281e-09  4.29014246e-08  7.65033273e-04\n",
      "  8.15674285e-02 -4.28134057e-02 -2.57830433e-03  1.94325468e-03\n",
      "  1.61025891e-01 -8.91201342e-07 -3.35957033e-07  8.83613382e-09\n",
      "  2.34276118e-07 -3.33648258e-06  8.86596331e-08 -2.19689866e-09\n",
      " -3.21752701e-07 -2.04610045e-06 -1.97442063e-12  2.48174814e-09\n",
      "  1.49257591e-08  3.60795908e-07  5.15662186e-06 -5.73822379e-06\n",
      " -2.45732323e-11  2.26876550e-06  4.62398875e-08  7.01740004e-08\n",
      "  5.90549831e-11 -1.84120106e-08 -9.36925080e-08 -4.48419942e-02\n",
      " -2.14968469e-03 -1.36435521e-03  8.99320617e-07  6.80673939e-04\n",
      "  1.33018244e-04  1.50577029e-06  8.98612739e-07 -2.83894694e-08\n",
      " -4.45260978e-07  5.41635941e-06  8.05617859e-07 -1.11400094e-08\n",
      "  1.01189132e-06  6.26560685e-06  3.65041330e-12 -2.55488963e-09\n",
      " -1.11633089e-08 -1.09650334e-06 -1.40921511e-05 -4.45042450e-06\n",
      "  2.68386645e-03  2.01868055e+01  5.07838276e+00 -9.63169838e-02\n",
      " -4.76119768e+00 -3.62458064e+00 -3.43195359e-02 -7.71360455e-03\n",
      "  2.24618025e-04  1.40191031e-02 -9.48432382e-02 -8.57775864e-03\n",
      "  1.31815590e-04 -1.95155777e-02 -9.06431966e-02 -2.08459599e-07\n",
      "  7.12285403e-05 -1.61754834e-04  1.39676286e-02  2.19911061e-01\n",
      "  6.67396996e-02  1.15281318e-05  6.12525168e-06  1.88082892e-07\n",
      " -1.36641797e-05  5.82315168e-05  2.67599095e-06 -3.95506706e-08\n",
      "  9.91532401e-07  3.65831702e-05 -4.31843450e-10 -2.12566429e-07\n",
      "  3.71813950e-06  6.13692022e-06 -8.75236872e-05 -3.29605715e-04\n",
      " -1.46579087e-05  2.37280681e-07  2.73772819e-06 -1.94656127e-05\n",
      "  1.72962977e-10 -7.10704831e-08 -1.96119936e-06 -1.16355813e-06\n",
      "  2.96359366e-05  7.45599170e-05 -1.07247544e-13  3.83316490e-10\n",
      "  1.59461688e-09  7.70313824e-09 -1.93226419e-06  1.42492756e-06\n",
      " -1.24690119e-06  7.20628591e-06  4.72720223e-05 -4.47346740e-03]\n",
      "Mean squared error: 38.27\n",
      "Coefficient of determination: -0.02\n"
     ]
    }
   ],
   "source": [
    "poly = PolynomialFeatures(3,include_bias=False)\n",
    "input = df[features]\n",
    "output = df[target]\n",
    "input = poly.fit_transform(input,)\n",
    "input_train, input_test,output_train, output_test = train_test_split(input,output, test_size=0.3, random_state=seed)\n",
    "regr = linear_model.LinearRegression()\n",
    "regr.fit(input_train, output_train)\n",
    "output_pred = regr.predict(input_test)\n",
    "# The coefficients\n",
    "print(\"Coefficients: \\n\", regr.coef_)\n",
    "# The mean squared error\n",
    "print(\"Mean squared error: %.2f\" % mean_squared_error(output_test, output_pred))\n",
    "# The coefficient of determination: 1 is perfect prediction\n",
    "print(\"Coefficient of determination: %.2f\" % r2_score(output_test, output_pred))"
   ]
  },
  {
   "cell_type": "markdown",
   "metadata": {},
   "source": [
    "Se concluye que realizando el feature polinomial de orden 2 mejora el MSE, pero a partir de orden 3 se comienza a tener problema de overfitting"
   ]
  }
 ],
 "metadata": {
  "kernelspec": {
   "display_name": "Python 3.10.0 64-bit",
   "language": "python",
   "name": "python3"
  },
  "language_info": {
   "codemirror_mode": {
    "name": "ipython",
    "version": 3
   },
   "file_extension": ".py",
   "mimetype": "text/x-python",
   "name": "python",
   "nbconvert_exporter": "python",
   "pygments_lexer": "ipython3",
   "version": "3.10.0"
  },
  "orig_nbformat": 4,
  "vscode": {
   "interpreter": {
    "hash": "dd724817ebd2f637151ab7003c6e27ea24957a50d6b6ef245eeee2d95ef2c70f"
   }
  }
 },
 "nbformat": 4,
 "nbformat_minor": 2
}
