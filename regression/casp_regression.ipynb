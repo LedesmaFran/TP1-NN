{
 "cells": [
  {
   "cell_type": "markdown",
   "metadata": {},
   "source": [
    "# Trabajo Practico N1 - Problema de clasificacion y regresion.\n",
    "\n",
    "Autor: Francisco Ledesma"
   ]
  },
  {
   "cell_type": "markdown",
   "metadata": {},
   "source": [
    "### Attribute Information:\n",
    "\n",
    "- RMSD-Size of the residue.\n",
    "- F1 - Total surface area.\n",
    "- F2 - Non polar exposed area.\n",
    "- F3 - Fractional area of exposed non polar residue.\n",
    "- F4 - Fractional area of exposed non polar part of residue.\n",
    "- F5 - Molecular mass weighted exposed area.\n",
    "- F6 - Average deviation from standard exposed area of residue.\n",
    "- F7 - Euclidian distance.\n",
    "- F8 - Secondary structure penalty.\n",
    "- F9 - Spacial Distribution constraints (N,K Value)"
   ]
  },
  {
   "cell_type": "code",
   "execution_count": 19,
   "metadata": {},
   "outputs": [],
   "source": [
    "import pandas as pd\n",
    "from sklearn import linear_model\n",
    "from sklearn.metrics import mean_squared_error, r2_score\n",
    "from sklearn.model_selection import train_test_split\n",
    "import matplotlib.pyplot as plt\n",
    "from sklearn.preprocessing import PolynomialFeatures\n",
    "from sklearn.model_selection import learning_curve\n",
    "import numpy as np\n"
   ]
  },
  {
   "cell_type": "code",
   "execution_count": 20,
   "metadata": {},
   "outputs": [],
   "source": [
    "columns = [\"RMSD\",\"F1\",\"F2\",\"F3\",\"F4\",\"F5\",\"F6\",\"F7\",\"F8\",\"F9\"]\n",
    "df = pd.read_csv(\"CASP.csv\")"
   ]
  },
  {
   "cell_type": "code",
   "execution_count": 21,
   "metadata": {},
   "outputs": [
    {
     "data": {
      "text/html": [
       "<div>\n",
       "<style scoped>\n",
       "    .dataframe tbody tr th:only-of-type {\n",
       "        vertical-align: middle;\n",
       "    }\n",
       "\n",
       "    .dataframe tbody tr th {\n",
       "        vertical-align: top;\n",
       "    }\n",
       "\n",
       "    .dataframe thead th {\n",
       "        text-align: right;\n",
       "    }\n",
       "</style>\n",
       "<table border=\"1\" class=\"dataframe\">\n",
       "  <thead>\n",
       "    <tr style=\"text-align: right;\">\n",
       "      <th></th>\n",
       "      <th>RMSD</th>\n",
       "      <th>F1</th>\n",
       "      <th>F2</th>\n",
       "      <th>F3</th>\n",
       "      <th>F4</th>\n",
       "      <th>F5</th>\n",
       "      <th>F6</th>\n",
       "      <th>F7</th>\n",
       "      <th>F8</th>\n",
       "      <th>F9</th>\n",
       "    </tr>\n",
       "  </thead>\n",
       "  <tbody>\n",
       "    <tr>\n",
       "      <th>count</th>\n",
       "      <td>45730.000000</td>\n",
       "      <td>45730.000000</td>\n",
       "      <td>45730.000000</td>\n",
       "      <td>45730.000000</td>\n",
       "      <td>45730.000000</td>\n",
       "      <td>4.573000e+04</td>\n",
       "      <td>45730.000000</td>\n",
       "      <td>45730.000000</td>\n",
       "      <td>45730.000000</td>\n",
       "      <td>45730.000000</td>\n",
       "    </tr>\n",
       "    <tr>\n",
       "      <th>mean</th>\n",
       "      <td>7.748528</td>\n",
       "      <td>9871.596995</td>\n",
       "      <td>3017.367175</td>\n",
       "      <td>0.302392</td>\n",
       "      <td>103.492433</td>\n",
       "      <td>1.368299e+06</td>\n",
       "      <td>145.638061</td>\n",
       "      <td>3989.755990</td>\n",
       "      <td>69.975071</td>\n",
       "      <td>34.523664</td>\n",
       "    </tr>\n",
       "    <tr>\n",
       "      <th>std</th>\n",
       "      <td>6.118312</td>\n",
       "      <td>4058.138034</td>\n",
       "      <td>1464.324663</td>\n",
       "      <td>0.062886</td>\n",
       "      <td>55.424985</td>\n",
       "      <td>5.640367e+05</td>\n",
       "      <td>69.999230</td>\n",
       "      <td>1993.574575</td>\n",
       "      <td>56.493443</td>\n",
       "      <td>5.979755</td>\n",
       "    </tr>\n",
       "    <tr>\n",
       "      <th>min</th>\n",
       "      <td>0.000000</td>\n",
       "      <td>2392.050000</td>\n",
       "      <td>403.500000</td>\n",
       "      <td>0.092500</td>\n",
       "      <td>10.310100</td>\n",
       "      <td>3.194902e+05</td>\n",
       "      <td>31.970400</td>\n",
       "      <td>0.000000</td>\n",
       "      <td>0.000000</td>\n",
       "      <td>15.228000</td>\n",
       "    </tr>\n",
       "    <tr>\n",
       "      <th>25%</th>\n",
       "      <td>2.305000</td>\n",
       "      <td>6936.680000</td>\n",
       "      <td>1979.045000</td>\n",
       "      <td>0.258740</td>\n",
       "      <td>63.563900</td>\n",
       "      <td>9.535912e+05</td>\n",
       "      <td>94.757500</td>\n",
       "      <td>3165.322500</td>\n",
       "      <td>31.000000</td>\n",
       "      <td>30.424725</td>\n",
       "    </tr>\n",
       "    <tr>\n",
       "      <th>50%</th>\n",
       "      <td>5.030000</td>\n",
       "      <td>8898.805000</td>\n",
       "      <td>2668.155000</td>\n",
       "      <td>0.300150</td>\n",
       "      <td>87.740800</td>\n",
       "      <td>1.237219e+06</td>\n",
       "      <td>126.176000</td>\n",
       "      <td>3840.170000</td>\n",
       "      <td>54.000000</td>\n",
       "      <td>35.299300</td>\n",
       "    </tr>\n",
       "    <tr>\n",
       "      <th>75%</th>\n",
       "      <td>13.379000</td>\n",
       "      <td>12126.150000</td>\n",
       "      <td>3786.410000</td>\n",
       "      <td>0.342890</td>\n",
       "      <td>133.646750</td>\n",
       "      <td>1.690920e+06</td>\n",
       "      <td>181.468500</td>\n",
       "      <td>4644.192500</td>\n",
       "      <td>91.000000</td>\n",
       "      <td>38.870800</td>\n",
       "    </tr>\n",
       "    <tr>\n",
       "      <th>max</th>\n",
       "      <td>20.999000</td>\n",
       "      <td>40034.900000</td>\n",
       "      <td>15312.000000</td>\n",
       "      <td>0.577690</td>\n",
       "      <td>369.317000</td>\n",
       "      <td>5.472011e+06</td>\n",
       "      <td>598.408000</td>\n",
       "      <td>105948.170000</td>\n",
       "      <td>350.000000</td>\n",
       "      <td>55.300900</td>\n",
       "    </tr>\n",
       "  </tbody>\n",
       "</table>\n",
       "</div>"
      ],
      "text/plain": [
       "               RMSD            F1            F2            F3            F4  \\\n",
       "count  45730.000000  45730.000000  45730.000000  45730.000000  45730.000000   \n",
       "mean       7.748528   9871.596995   3017.367175      0.302392    103.492433   \n",
       "std        6.118312   4058.138034   1464.324663      0.062886     55.424985   \n",
       "min        0.000000   2392.050000    403.500000      0.092500     10.310100   \n",
       "25%        2.305000   6936.680000   1979.045000      0.258740     63.563900   \n",
       "50%        5.030000   8898.805000   2668.155000      0.300150     87.740800   \n",
       "75%       13.379000  12126.150000   3786.410000      0.342890    133.646750   \n",
       "max       20.999000  40034.900000  15312.000000      0.577690    369.317000   \n",
       "\n",
       "                 F5            F6             F7            F8            F9  \n",
       "count  4.573000e+04  45730.000000   45730.000000  45730.000000  45730.000000  \n",
       "mean   1.368299e+06    145.638061    3989.755990     69.975071     34.523664  \n",
       "std    5.640367e+05     69.999230    1993.574575     56.493443      5.979755  \n",
       "min    3.194902e+05     31.970400       0.000000      0.000000     15.228000  \n",
       "25%    9.535912e+05     94.757500    3165.322500     31.000000     30.424725  \n",
       "50%    1.237219e+06    126.176000    3840.170000     54.000000     35.299300  \n",
       "75%    1.690920e+06    181.468500    4644.192500     91.000000     38.870800  \n",
       "max    5.472011e+06    598.408000  105948.170000    350.000000     55.300900  "
      ]
     },
     "execution_count": 21,
     "metadata": {},
     "output_type": "execute_result"
    }
   ],
   "source": [
    "df.describe()"
   ]
  },
  {
   "cell_type": "code",
   "execution_count": 22,
   "metadata": {},
   "outputs": [],
   "source": [
    "features = columns[1:]\n",
    "target = 'RMSD'"
   ]
  },
  {
   "cell_type": "code",
   "execution_count": 23,
   "metadata": {},
   "outputs": [],
   "source": [
    "input = df[features]\n",
    "output = df[target]"
   ]
  },
  {
   "cell_type": "code",
   "execution_count": 24,
   "metadata": {},
   "outputs": [],
   "source": [
    "seed = (-1)*80538738812075974**3 + 80435758145817515**3 + 12602123297335631**3\n",
    "input_train, input_test,output_train, output_test = train_test_split(input,output, test_size=0.3, random_state=seed)"
   ]
  },
  {
   "cell_type": "code",
   "execution_count": 25,
   "metadata": {},
   "outputs": [],
   "source": [
    "regr = linear_model.LinearRegression()"
   ]
  },
  {
   "cell_type": "code",
   "execution_count": 26,
   "metadata": {},
   "outputs": [
    {
     "data": {
      "text/html": [
       "<style>#sk-container-id-2 {color: black;background-color: white;}#sk-container-id-2 pre{padding: 0;}#sk-container-id-2 div.sk-toggleable {background-color: white;}#sk-container-id-2 label.sk-toggleable__label {cursor: pointer;display: block;width: 100%;margin-bottom: 0;padding: 0.3em;box-sizing: border-box;text-align: center;}#sk-container-id-2 label.sk-toggleable__label-arrow:before {content: \"▸\";float: left;margin-right: 0.25em;color: #696969;}#sk-container-id-2 label.sk-toggleable__label-arrow:hover:before {color: black;}#sk-container-id-2 div.sk-estimator:hover label.sk-toggleable__label-arrow:before {color: black;}#sk-container-id-2 div.sk-toggleable__content {max-height: 0;max-width: 0;overflow: hidden;text-align: left;background-color: #f0f8ff;}#sk-container-id-2 div.sk-toggleable__content pre {margin: 0.2em;color: black;border-radius: 0.25em;background-color: #f0f8ff;}#sk-container-id-2 input.sk-toggleable__control:checked~div.sk-toggleable__content {max-height: 200px;max-width: 100%;overflow: auto;}#sk-container-id-2 input.sk-toggleable__control:checked~label.sk-toggleable__label-arrow:before {content: \"▾\";}#sk-container-id-2 div.sk-estimator input.sk-toggleable__control:checked~label.sk-toggleable__label {background-color: #d4ebff;}#sk-container-id-2 div.sk-label input.sk-toggleable__control:checked~label.sk-toggleable__label {background-color: #d4ebff;}#sk-container-id-2 input.sk-hidden--visually {border: 0;clip: rect(1px 1px 1px 1px);clip: rect(1px, 1px, 1px, 1px);height: 1px;margin: -1px;overflow: hidden;padding: 0;position: absolute;width: 1px;}#sk-container-id-2 div.sk-estimator {font-family: monospace;background-color: #f0f8ff;border: 1px dotted black;border-radius: 0.25em;box-sizing: border-box;margin-bottom: 0.5em;}#sk-container-id-2 div.sk-estimator:hover {background-color: #d4ebff;}#sk-container-id-2 div.sk-parallel-item::after {content: \"\";width: 100%;border-bottom: 1px solid gray;flex-grow: 1;}#sk-container-id-2 div.sk-label:hover label.sk-toggleable__label {background-color: #d4ebff;}#sk-container-id-2 div.sk-serial::before {content: \"\";position: absolute;border-left: 1px solid gray;box-sizing: border-box;top: 0;bottom: 0;left: 50%;z-index: 0;}#sk-container-id-2 div.sk-serial {display: flex;flex-direction: column;align-items: center;background-color: white;padding-right: 0.2em;padding-left: 0.2em;position: relative;}#sk-container-id-2 div.sk-item {position: relative;z-index: 1;}#sk-container-id-2 div.sk-parallel {display: flex;align-items: stretch;justify-content: center;background-color: white;position: relative;}#sk-container-id-2 div.sk-item::before, #sk-container-id-2 div.sk-parallel-item::before {content: \"\";position: absolute;border-left: 1px solid gray;box-sizing: border-box;top: 0;bottom: 0;left: 50%;z-index: -1;}#sk-container-id-2 div.sk-parallel-item {display: flex;flex-direction: column;z-index: 1;position: relative;background-color: white;}#sk-container-id-2 div.sk-parallel-item:first-child::after {align-self: flex-end;width: 50%;}#sk-container-id-2 div.sk-parallel-item:last-child::after {align-self: flex-start;width: 50%;}#sk-container-id-2 div.sk-parallel-item:only-child::after {width: 0;}#sk-container-id-2 div.sk-dashed-wrapped {border: 1px dashed gray;margin: 0 0.4em 0.5em 0.4em;box-sizing: border-box;padding-bottom: 0.4em;background-color: white;}#sk-container-id-2 div.sk-label label {font-family: monospace;font-weight: bold;display: inline-block;line-height: 1.2em;}#sk-container-id-2 div.sk-label-container {text-align: center;}#sk-container-id-2 div.sk-container {/* jupyter's `normalize.less` sets `[hidden] { display: none; }` but bootstrap.min.css set `[hidden] { display: none !important; }` so we also need the `!important` here to be able to override the default hidden behavior on the sphinx rendered scikit-learn.org. See: https://github.com/scikit-learn/scikit-learn/issues/21755 */display: inline-block !important;position: relative;}#sk-container-id-2 div.sk-text-repr-fallback {display: none;}</style><div id=\"sk-container-id-2\" class=\"sk-top-container\"><div class=\"sk-text-repr-fallback\"><pre>LinearRegression()</pre><b>In a Jupyter environment, please rerun this cell to show the HTML representation or trust the notebook. <br />On GitHub, the HTML representation is unable to render, please try loading this page with nbviewer.org.</b></div><div class=\"sk-container\" hidden><div class=\"sk-item\"><div class=\"sk-estimator sk-toggleable\"><input class=\"sk-toggleable__control sk-hidden--visually\" id=\"sk-estimator-id-2\" type=\"checkbox\" checked><label for=\"sk-estimator-id-2\" class=\"sk-toggleable__label sk-toggleable__label-arrow\">LinearRegression</label><div class=\"sk-toggleable__content\"><pre>LinearRegression()</pre></div></div></div></div></div>"
      ],
      "text/plain": [
       "LinearRegression()"
      ]
     },
     "execution_count": 26,
     "metadata": {},
     "output_type": "execute_result"
    }
   ],
   "source": [
    "regr.fit(input_train, output_train)"
   ]
  },
  {
   "cell_type": "code",
   "execution_count": 27,
   "metadata": {},
   "outputs": [],
   "source": [
    "output_pred = regr.predict(input_test)"
   ]
  },
  {
   "cell_type": "markdown",
   "metadata": {},
   "source": [
    "Analizando el dataset como viene sin tener en cuenta EDA se obtienen los siguientes resultados."
   ]
  },
  {
   "cell_type": "code",
   "execution_count": 28,
   "metadata": {},
   "outputs": [
    {
     "name": "stdout",
     "output_type": "stream",
     "text": [
      "Coefficients: \n",
      " [ 1.67523149e-03  1.40033970e-03  1.82525088e+01 -1.08062674e-01\n",
      " -4.70064715e-06 -2.39016151e-02 -1.64317884e-04  1.52408263e-02\n",
      " -1.05161145e-01]\n",
      "Mean squared error: 27.10\n",
      "Coefficient of determination: 0.28\n"
     ]
    }
   ],
   "source": [
    "# The coefficients\n",
    "print(\"Coefficients: \\n\", regr.coef_)\n",
    "# The mean squared error\n",
    "print(\"Mean squared error: %.2f\" % mean_squared_error(output_test, output_pred))\n",
    "# The coefficient of determination: 1 is perfect prediction\n",
    "print(\"Coefficient of determination: %.2f\" % r2_score(output_test, output_pred))"
   ]
  },
  {
   "cell_type": "markdown",
   "metadata": {},
   "source": [
    "### A continuacion se busca mejorar la performance del predictor."
   ]
  },
  {
   "cell_type": "markdown",
   "metadata": {},
   "source": [
    "### Normalizando los valores del dataset"
   ]
  },
  {
   "cell_type": "code",
   "execution_count": 29,
   "metadata": {},
   "outputs": [
    {
     "name": "stdout",
     "output_type": "stream",
     "text": [
      "Coefficients: \n",
      " [ 6.79832064  2.05055196  1.14782424 -5.98937203 -2.65133745 -1.67309466\n",
      " -0.32757996  0.86100675 -0.62883793]\n",
      "Mean squared error: 27.10\n",
      "Coefficient of determination: 0.28\n"
     ]
    }
   ],
   "source": [
    "df_rmsd= df['RMSD']\n",
    "df = df.drop(columns='RMSD')\n",
    "df = (df-df.mean())/df.std()\n",
    "df = pd.concat([df,df_rmsd],axis=1)\n",
    "input = df[features]\n",
    "output = df[target]\n",
    "input_train, input_test,output_train, output_test = train_test_split(input,output, test_size=0.3, random_state=seed)\n",
    "regr = linear_model.LinearRegression()\n",
    "regr.fit(input_train, output_train)\n",
    "output_pred = regr.predict(input_test)\n",
    "# The coefficients\n",
    "print(\"Coefficients: \\n\", regr.coef_)\n",
    "# The mean squared error\n",
    "print(\"Mean squared error: %.2f\" % mean_squared_error(output_test, output_pred))\n",
    "# The coefficient of determination: 1 is perfect prediction\n",
    "print(\"Coefficient of determination: %.2f\" % r2_score(output_test, output_pred))"
   ]
  },
  {
   "cell_type": "markdown",
   "metadata": {},
   "source": [
    "se observa que al normalizar, la metrica MSE no cambia"
   ]
  },
  {
   "cell_type": "markdown",
   "metadata": {},
   "source": [
    "### Curvas de aprendizaje"
   ]
  },
  {
   "cell_type": "code",
   "execution_count": 30,
   "metadata": {},
   "outputs": [],
   "source": [
    "def learning_curves(estimator, X, y):\n",
    "    train_sizes, train_scores, test_scores,fit_times,score_times = learning_curve(estimator, X, y,\n",
    "                                                                                    scoring ='neg_mean_squared_error',\n",
    "                                                                                    random_state=42,\n",
    "                                                                                    train_sizes=np.linspace(0.1, 1.0, 100),\n",
    "                                                                                    return_times=True)\n",
    "\n",
    "    train_scores_mean = -train_scores.mean(axis = 1)\n",
    "    test_scores_mean = -test_scores.mean(axis = 1)\n",
    "\n",
    "    plt.plot(train_sizes, train_scores_mean, label = 'Training error')\n",
    "    plt.plot(train_sizes, test_scores_mean, label = 'test error')\n",
    "\n",
    "    plt.ylabel('MSE', fontsize = 14)\n",
    "    plt.xlabel('Training set size', fontsize = 14)\n",
    "    title = 'Learning curves for a ' + str(estimator).split('(')[0] + ' model'\n",
    "    plt.title(title, fontsize = 18, y = 1.03)\n",
    "    print('best train size percent:',(train_sizes[np.argmin(train_scores_mean)]/len(X))*100,'%')\n",
    "    plt.legend()\n",
    "    plt.grid()\n",
    "    plt.show()\n",
    "    \n",
    "    fit_times_mean = np.mean(fit_times, axis=1)\n",
    "    fit_times_std = np.std(fit_times, axis=1)\n",
    "    # Plot fit_time vs score\n",
    "    fit_time_argsort = fit_times_mean.argsort()\n",
    "    fit_time_sorted = fit_times_mean[fit_time_argsort]\n",
    "    test_scores_mean_sorted = test_scores_mean[fit_time_argsort]\n",
    "    plt.grid()\n",
    "    plt.plot(fit_time_sorted, test_scores_mean_sorted, \"o-\")\n",
    "    plt.xlabel(\"fit_times\")\n",
    "    plt.ylabel(\"MSE\")\n",
    "    plt.title(\"Performance of the model\")"
   ]
  },
  {
   "cell_type": "markdown",
   "metadata": {},
   "source": [
    "Se grafica como es el MSE en funcion del tamaño del dataset y el tiempo que demora en hacer el fit."
   ]
  },
  {
   "cell_type": "code",
   "execution_count": 31,
   "metadata": {},
   "outputs": [
    {
     "name": "stdout",
     "output_type": "stream",
     "text": [
      "best train size percent: 42.180188060354254 %\n"
     ]
    },
    {
     "data": {
      "image/png": "[encoded data removed]",
      "text/plain": [
       "<Figure size 432x288 with 1 Axes>"
      ]
     },
     "metadata": {
      "needs_background": "light"
     },
     "output_type": "display_data"
    },
    {
     "data": {
      "image/png": "[encoded data removed]",
      "text/plain": [
       "<Figure size 432x288 with 1 Axes>"
      ]
     },
     "metadata": {
      "needs_background": "light"
     },
     "output_type": "display_data"
    }
   ],
   "source": [
    "learning_curves(estimator=linear_model.LinearRegression(), X=input, y=output)"
   ]
  },
  {
   "cell_type": "markdown",
   "metadata": {},
   "source": [
    "Se observa que en el caso de normalizar la entrada no se obtiene una mejora en el MSE sino en el tiempo que demora el fit"
   ]
  },
  {
   "cell_type": "code",
   "execution_count": 32,
   "metadata": {},
   "outputs": [
    {
     "name": "stdout",
     "output_type": "stream",
     "text": [
      "best train size percent: 42.180188060354254 %\n"
     ]
    },
    {
     "data": {
      "image/png": "[encoded data removed]",
      "text/plain": [
       "<Figure size 432x288 with 1 Axes>"
      ]
     },
     "metadata": {
      "needs_background": "light"
     },
     "output_type": "display_data"
    },
    {
     "data": {
      "image/png": "[encoded data removed]",
      "text/plain": [
       "<Figure size 432x288 with 1 Axes>"
      ]
     },
     "metadata": {
      "needs_background": "light"
     },
     "output_type": "display_data"
    }
   ],
   "source": [
    "input_norm = (input - input.mean())/input.std()\n",
    "learning_curves(estimator=linear_model.LinearRegression(), X=input_norm, y=output)"
   ]
  },
  {
   "cell_type": "markdown",
   "metadata": {},
   "source": [
    "### Elimino el feature F5 debido a que en el EDA se aprecia que tiene una fuerte correlacion con F1 y probablemente no aporte informacion."
   ]
  },
  {
   "cell_type": "code",
   "execution_count": 33,
   "metadata": {},
   "outputs": [
    {
     "name": "stdout",
     "output_type": "stream",
     "text": [
      "Coefficients: \n",
      " [ 3.90549468  2.16078031  1.10580568 -5.93348126 -1.54787225 -0.32617782\n",
      "  0.88654474 -0.58636628]\n",
      "Mean squared error: 27.10\n",
      "Coefficient of determination: 0.28\n"
     ]
    }
   ],
   "source": [
    "bad_col = [\"F5\"]\n",
    "df = df.drop(bad_col, axis=1) #Elimino las conflictivas...\n",
    "for col in bad_col:\n",
    "    columns.remove(col)\n",
    "features = columns[1:]\n",
    "target = 'RMSD'\n",
    "input = df[features]\n",
    "output = df[target]\n",
    "input_train, input_test,output_train, output_test = train_test_split(input,output, test_size=0.3, random_state=seed)\n",
    "regr = linear_model.LinearRegression()\n",
    "regr.fit(input_train, output_train)\n",
    "output_pred = regr.predict(input_test)\n",
    "# The coefficients\n",
    "print(\"Coefficients: \\n\", regr.coef_)\n",
    "# The mean squared error\n",
    "print(\"Mean squared error: %.2f\" % mean_squared_error(output_test, output_pred))\n",
    "# The coefficient of determination: 1 is perfect prediction\n",
    "print(\"Coefficient of determination: %.2f\" % r2_score(output_test, output_pred))"
   ]
  },
  {
   "cell_type": "markdown",
   "metadata": {},
   "source": [
    "Efectivamente, no mejoro"
   ]
  },
  {
   "cell_type": "markdown",
   "metadata": {},
   "source": [
    "### Aplico Feature Engineering\n",
    "Busco aplicar features polinomiales de distinto orden para encontrar correlaciones no lineales entre las variables"
   ]
  },
  {
   "cell_type": "markdown",
   "metadata": {},
   "source": [
    "### orden 2"
   ]
  },
  {
   "cell_type": "code",
   "execution_count": 34,
   "metadata": {},
   "outputs": [
    {
     "name": "stdout",
     "output_type": "stream",
     "text": [
      "Coefficients: \n",
      " [-9.46133286e+02  1.13790924e+03 -4.80317626e+02 -7.12089533e+00\n",
      " -2.29645368e+00 -6.14644758e-01  1.40883314e+00 -5.33694965e-01\n",
      "  4.28237625e+00  9.23765095e-01 -2.00253395e+02 -3.29550133e+00\n",
      " -8.31880478e+00  2.55937714e-01 -1.49866842e+00 -2.92382146e+00\n",
      " -3.72754427e-01  1.29285846e+00  1.94071707e+00 -2.47972172e+00\n",
      "  2.80677309e-01  5.61870730e-01  1.38044927e+00 -2.83483615e-01\n",
      " -1.26011889e+00  1.99133037e+00  1.74471230e-01 -4.58683779e-01\n",
      " -1.53289484e+00  3.87860736e-02  1.76217568e+00  5.94932554e-01\n",
      "  1.13408730e+00 -5.01861471e-01  5.23846576e+00 -1.02889622e+00\n",
      "  1.23897044e+00  2.11669707e+00  1.80171952e-02 -3.04522654e-01\n",
      " -7.63274456e-02 -9.19029397e-01  2.42643545e-01 -1.27094064e-01]\n",
      "Mean squared error: 24.22\n",
      "Coefficient of determination: 0.35\n"
     ]
    }
   ],
   "source": [
    "poly = PolynomialFeatures(2,include_bias=False)\n",
    "input = df[features]\n",
    "output = df[target]\n",
    "input = poly.fit_transform(input,)\n",
    "input_train, input_test,output_train, output_test = train_test_split(input,output, test_size=0.3, random_state=seed)\n",
    "regr = linear_model.LinearRegression()\n",
    "regr.fit(input_train, output_train)\n",
    "output_pred = regr.predict(input_test)\n",
    "# The coefficients\n",
    "print(\"Coefficients: \\n\", regr.coef_)\n",
    "# The mean squared error\n",
    "print(\"Mean squared error: %.2f\" % mean_squared_error(output_test, output_pred))\n",
    "# The coefficient of determination: 1 is perfect prediction\n",
    "print(\"Coefficient of determination: %.2f\" % r2_score(output_test, output_pred))"
   ]
  },
  {
   "cell_type": "markdown",
   "metadata": {},
   "source": [
    "### orden 3"
   ]
  },
  {
   "cell_type": "code",
   "execution_count": 35,
   "metadata": {},
   "outputs": [
    {
     "name": "stdout",
     "output_type": "stream",
     "text": [
      "Coefficients: \n",
      " [ 1.78554068e+02 -2.20125236e+02  5.28857842e+01 -1.00655537e+02\n",
      "  7.53220790e+01  1.81704893e+02  1.53307715e-01  3.44523854e+01\n",
      " -7.33320606e+02  2.42086888e+03  6.41051884e+02  3.52185588e+03\n",
      " -2.95629473e+03 -6.96392808e+03  6.82543019e+01 -1.29899401e+03\n",
      " -1.82532515e+03 -4.04432917e+02 -4.20766555e+03  3.49919786e+03\n",
      "  8.31293428e+03 -8.12514234e+01  1.55075570e+03  4.99980868e+02\n",
      "  1.78213296e+03 -1.48304889e+03 -3.52114859e+03  3.42936668e+01\n",
      " -6.58285009e+02  1.98666473e+00 -9.00646975e-01  2.96251898e+00\n",
      "  1.35645933e+00 -1.89512357e+00  1.44801510e+01 -4.41638277e+00\n",
      "  7.75139976e-01  3.72207224e+00  1.57787485e-01 -1.46706054e+00\n",
      "  4.60352857e-01 -1.52024492e+00  2.33083974e-01  9.16294366e-01\n",
      " -2.02450912e+01  2.39985588e+01 -1.69551664e+02  1.53556237e+01\n",
      "  2.02806744e+01 -6.68756524e+00  5.43077483e-02 -1.17820647e+01\n",
      "  2.28875692e+00  3.14866980e+02 -1.58358106e+01 -3.49336394e+01\n",
      "  7.29371895e+00  1.26270492e+00  1.86705469e+01  2.06057989e+02\n",
      "  7.51474733e+02 -5.94703914e+02 -1.45544893e+03  1.37105876e+01\n",
      " -2.79709279e+02 -8.62939457e+00 -4.12472194e+00  4.40805504e+00\n",
      "  2.34786725e+00  1.66369311e+00  2.89612671e-01  2.77021127e+00\n",
      " -4.58628519e+00  4.92382622e-01 -1.34635100e-01 -2.59016628e-01\n",
      " -4.61132218e-01  4.32606842e+00  4.38263246e+00 -1.38720308e+00\n",
      " -6.61482562e+00  1.12766997e+01  2.78118711e+00  1.15068597e+01\n",
      "  1.14628225e+00 -2.78883055e+00 -7.17129943e+00 -5.75883494e+00\n",
      " -8.67721280e+00 -1.02507903e+01  1.26600983e-01  3.99037350e+00\n",
      "  6.35541241e+00  4.26203588e+00  3.78892836e+00 -5.18963259e+00\n",
      " -1.05452191e+00 -3.27487854e+00  7.42052432e+00 -6.32540418e+00\n",
      "  5.78996881e+00  5.56624282e-01  1.29458340e-01  1.17263078e+00\n",
      "  1.06330092e+00 -4.90209073e+00 -4.18354273e+00  4.45928494e-01\n",
      "  8.09432664e-01  4.03356210e+00  1.94221097e+00 -9.91008132e-01\n",
      " -1.13375409e+00 -1.55094569e+00 -4.94773265e+00 -1.21787759e+00\n",
      "  2.38704988e+00  2.17219001e+00  2.18927025e+00 -3.64169100e+00\n",
      "  3.73657616e+00 -4.72573637e+00 -2.09637444e-01 -1.13252373e-01\n",
      " -5.63280634e-01 -8.52025324e-01  2.64966490e+00  2.78793021e+00\n",
      " -2.47276543e-01  1.84529085e+00  1.00504064e+00  1.27917191e+00\n",
      " -2.18640380e+00  6.99713384e-01  8.02537803e-01 -3.75352143e-01\n",
      " -7.94129162e-02  5.79637647e-01 -7.34607593e-02 -1.25586280e+00\n",
      "  2.55207290e+00  1.19858016e+00 -1.15015989e+00 -4.10119085e-01\n",
      " -5.09590272e+00  2.35605145e+00  5.61083566e-01 -1.05695758e+00\n",
      "  4.97971456e-02 -6.31788901e-01 -1.51743579e+00 -2.22814405e-01\n",
      "  5.79851000e-01  2.58756408e-01 -1.67855085e-03  5.82892525e-02\n",
      "  4.90182529e-03  1.18466900e-01 -1.34014248e+00  1.23198517e-01\n",
      " -2.44880800e-01  1.04880099e-01  3.85234820e-02 -7.40172281e-01]\n",
      "Mean squared error: 28.80\n",
      "Coefficient of determination: 0.23\n"
     ]
    }
   ],
   "source": [
    "poly = PolynomialFeatures(3,include_bias=False)\n",
    "input = df[features]\n",
    "output = df[target]\n",
    "input = poly.fit_transform(input,)\n",
    "input_train, input_test,output_train, output_test = train_test_split(input,output, test_size=0.3, random_state=seed)\n",
    "regr = linear_model.LinearRegression()\n",
    "regr.fit(input_train, output_train)\n",
    "output_pred = regr.predict(input_test)\n",
    "# The coefficients\n",
    "print(\"Coefficients: \\n\", regr.coef_)\n",
    "# The mean squared error\n",
    "print(\"Mean squared error: %.2f\" % mean_squared_error(output_test, output_pred))\n",
    "# The coefficient of determination: 1 is perfect prediction\n",
    "print(\"Coefficient of determination: %.2f\" % r2_score(output_test, output_pred))"
   ]
  },
  {
   "cell_type": "markdown",
   "metadata": {},
   "source": [
    "Se concluye que realizando el feature polinomial de orden 2 mejora el MSE, pero a partir de orden 3 se comienza a tener problema de overfitting"
   ]
  }
 ],
 "metadata": {
  "kernelspec": {
   "display_name": "Python 3.10.0 64-bit",
   "language": "python",
   "name": "python3"
  },
  "language_info": {
   "codemirror_mode": {
    "name": "ipython",
    "version": 3
   },
   "file_extension": ".py",
   "mimetype": "text/x-python",
   "name": "python",
   "nbconvert_exporter": "python",
   "pygments_lexer": "ipython3",
   "version": "3.10.0"
  },
  "orig_nbformat": 4,
  "vscode": {
   "interpreter": {
    "hash": "dd724817ebd2f637151ab7003c6e27ea24957a50d6b6ef245eeee2d95ef2c70f"
   }
  }
 },
 "nbformat": 4,
 "nbformat_minor": 2
}
