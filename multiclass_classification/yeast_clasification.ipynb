{
 "cells": [
  {
   "cell_type": "markdown",
   "metadata": {},
   "source": [
    "# Trabajo Practico N1 - Problema de clasificacion y regresion.\n",
    "\n",
    "Autor: Francisco Ledesma"
   ]
  },
  {
   "cell_type": "markdown",
   "metadata": {},
   "source": [
    "## Problema de Clasificacion Multiclase\n",
    "Para este problema se utilizo un dataset \"Anclaje de proteínas de levaduras basado en información de las secuencias de aminoácidos que forman a la proteína\" <br>\n",
    "URL:  (https://archive.ics.uci.edu/ml/datasets/Yeast)"
   ]
  },
  {
   "cell_type": "markdown",
   "metadata": {},
   "source": [
    "### Dataset Yeast\n",
    "Cargamos el dataset en df"
   ]
  },
  {
   "cell_type": "code",
   "execution_count": 225,
   "metadata": {},
   "outputs": [],
   "source": [
    "import pandas as pd"
   ]
  },
  {
   "cell_type": "code",
   "execution_count": 226,
   "metadata": {},
   "outputs": [],
   "source": [
    "columns = [\"mcg\",\"gvh\",\"alm\",\"mit\",\"erl\",\"pox\",\"vac\",\"nuc\"]\n",
    "df = pd.read_csv(\"yeast.data\",names = columns + ['Class'], sep='\\s+')\n",
    "df = df.drop([\"erl\", \"pox\"], axis=1) #Elimino las conflictivas...\n",
    "columns = [\"mcg\",\"gvh\",\"alm\",\"mit\",\"vac\",\"nuc\"]"
   ]
  },
  {
   "cell_type": "code",
   "execution_count": 227,
   "metadata": {},
   "outputs": [
    {
     "data": {
      "text/plain": [
       "CYT    463\n",
       "NUC    429\n",
       "MIT    244\n",
       "ME3    163\n",
       "Name: Class, dtype: int64"
      ]
     },
     "execution_count": 227,
     "metadata": {},
     "output_type": "execute_result"
    }
   ],
   "source": [
    "class_balance = df.Class.value_counts()\n",
    "for name in class_balance[4:].index:                    # Me quedo solo con las 4 clases mas significativas\n",
    "    df.drop(df[df['Class']==name].index,inplace=True)\n",
    "df.reset_index()\n",
    "df.Class.value_counts()\n"
   ]
  },
  {
   "cell_type": "code",
   "execution_count": 228,
   "metadata": {},
   "outputs": [],
   "source": [
    "from sklearn.model_selection import train_test_split"
   ]
  },
  {
   "cell_type": "code",
   "execution_count": 229,
   "metadata": {},
   "outputs": [],
   "source": [
    "seed = (-1)*80538738812075974**3 + 80435758145817515**3 + 12602123297335631**3\n",
    "train, test = train_test_split(df, test_size=0.3, stratify=df['Class'], random_state=seed)"
   ]
  },
  {
   "cell_type": "code",
   "execution_count": 230,
   "metadata": {},
   "outputs": [],
   "source": [
    "#Calculo el balance de clases\n",
    "class_balance = train.Class.value_counts()"
   ]
  },
  {
   "cell_type": "code",
   "execution_count": 231,
   "metadata": {},
   "outputs": [],
   "source": [
    "import matplotlib.pyplot as plt\n",
    "\n",
    "def meanVector_covMatrix(class_vector,df,columns,onlyclass=None):\n",
    "    if onlyclass is not None:\n",
    "        class_vector=onlyclass\n",
    "    result = {}\n",
    "    for class_name in class_vector:\n",
    "        result_temp = []\n",
    "        class_data = df[df['Class']==class_name]\n",
    "        mean_vector = []\n",
    "        for col in columns:\n",
    "                mean = class_data[col].mean()\n",
    "                mean_vector.append(mean)\n",
    "\n",
    "        covMatrix = pd.DataFrame.cov(class_data)\n",
    "\n",
    "        result_temp.append(mean_vector)\n",
    "        result_temp.append(covMatrix)\n",
    "\n",
    "        result[class_name] = result_temp\n",
    "    return result"
   ]
  },
  {
   "cell_type": "code",
   "execution_count": 232,
   "metadata": {},
   "outputs": [],
   "source": [
    "class_vector = train['Class'].unique()\n",
    "#Calculo vector de media y covarianza para cada clase\n",
    "multivariate_stats_values = meanVector_covMatrix(class_vector,train,columns)"
   ]
  },
  {
   "cell_type": "code",
   "execution_count": 233,
   "metadata": {},
   "outputs": [],
   "source": [
    "from scipy.stats import multivariate_normal\n",
    "import numpy as np\n",
    "\n",
    "def evaluate_data(x, classes_stats, class_vector,balance_class):\n",
    "    \"calculo por bayes y devuelvo vector de probabilidades a posteriori\"\n",
    "    prob_vector = []\n",
    "    for class_name in class_vector:\n",
    "        p = multivariate_normal.pdf(x, mean=classes_stats[class_name][0], cov=classes_stats[class_name][1],allow_singular=True);\n",
    "        #print('P(x|y='+class_name+').p(y='+class_name+')=',round(p*balance_class[class_name],3))\n",
    "        #p(y=k|x) = p(x|y=k).p(y=k)\n",
    "        prob_vector.append(p*balance_class[class_name])\n",
    "    return prob_vector\n",
    "\n",
    "\n",
    "def estimate_class(data, multivariate_stats_values, class_vector, balance_class):\n",
    "    \"Evaluo input y devuelvo el nombre de la clase donde es maxima la probabilidad a posteriori\"\n",
    "    prob_vector = evaluate_data(data,multivariate_stats_values,class_vector,balance_class)\n",
    "    return class_vector[np.argmax(prob_vector)]\n",
    "\n",
    "\n",
    "def isResultOk(data, multivariate_stats_values, class_vector, balance_class):\n",
    "    \"Estimo cual es la clase mas probable a la que corresponde el dato y devuelvo true si coincide con la que es\"\n",
    "    name = data[-1]\n",
    "    data = [np.delete(data.values,-1)]\n",
    "    result = estimate_class(data,multivariate_stats_values,class_vector,balance_class)\n",
    "    if name == result:\n",
    "        return True\n",
    "    else:\n",
    "        return False\n"
   ]
  },
  {
   "cell_type": "code",
   "execution_count": 234,
   "metadata": {},
   "outputs": [],
   "source": [
    "def scoreModel(test, stats, balance_class):\n",
    "    total = test.shape[0]\n",
    "    corrects = 0\n",
    "    #Calculo la cantidad de estimaciones correctas, es decir, si la clase mas probable coincide con la clase que realmente es.\n",
    "    for i in range(0,total):\n",
    "        if isResultOk(test.iloc[i], stats, class_vector, balance_class):\n",
    "            corrects += 1\n",
    "    print('Accuracy:',round(corrects/total*100,3),'%')"
   ]
  },
  {
   "cell_type": "code",
   "execution_count": 235,
   "metadata": {},
   "outputs": [
    {
     "name": "stdout",
     "output_type": "stream",
     "text": [
      "Accuracy: 61.606 %\n"
     ]
    }
   ],
   "source": [
    "scoreModel(train,multivariate_stats_values,class_balance)"
   ]
  },
  {
   "cell_type": "code",
   "execution_count": 236,
   "metadata": {},
   "outputs": [
    {
     "name": "stdout",
     "output_type": "stream",
     "text": [
      "Accuracy: 63.333 %\n"
     ]
    }
   ],
   "source": [
    "scoreModel(test,multivariate_stats_values,class_balance)"
   ]
  },
  {
   "cell_type": "markdown",
   "metadata": {},
   "source": [
    "## Comparo utilizando sklearn"
   ]
  },
  {
   "cell_type": "code",
   "execution_count": 237,
   "metadata": {},
   "outputs": [],
   "source": [
    "from sklearn.discriminant_analysis import QuadraticDiscriminantAnalysis\n",
    "from sklearn.preprocessing import LabelEncoder"
   ]
  },
  {
   "cell_type": "code",
   "execution_count": 238,
   "metadata": {},
   "outputs": [],
   "source": [
    "enc = LabelEncoder()"
   ]
  },
  {
   "cell_type": "code",
   "execution_count": 239,
   "metadata": {},
   "outputs": [],
   "source": [
    "y = enc.fit_transform(train.Class.values)\n",
    "y_test = enc.transform(test.Class.values)"
   ]
  },
  {
   "cell_type": "code",
   "execution_count": 240,
   "metadata": {},
   "outputs": [],
   "source": [
    "clf = QuadraticDiscriminantAnalysis()"
   ]
  },
  {
   "cell_type": "code",
   "execution_count": 241,
   "metadata": {},
   "outputs": [
    {
     "data": {
      "text/html": [
       "<style>#sk-container-id-11 {color: black;background-color: white;}#sk-container-id-11 pre{padding: 0;}#sk-container-id-11 div.sk-toggleable {background-color: white;}#sk-container-id-11 label.sk-toggleable__label {cursor: pointer;display: block;width: 100%;margin-bottom: 0;padding: 0.3em;box-sizing: border-box;text-align: center;}#sk-container-id-11 label.sk-toggleable__label-arrow:before {content: \"▸\";float: left;margin-right: 0.25em;color: #696969;}#sk-container-id-11 label.sk-toggleable__label-arrow:hover:before {color: black;}#sk-container-id-11 div.sk-estimator:hover label.sk-toggleable__label-arrow:before {color: black;}#sk-container-id-11 div.sk-toggleable__content {max-height: 0;max-width: 0;overflow: hidden;text-align: left;background-color: #f0f8ff;}#sk-container-id-11 div.sk-toggleable__content pre {margin: 0.2em;color: black;border-radius: 0.25em;background-color: #f0f8ff;}#sk-container-id-11 input.sk-toggleable__control:checked~div.sk-toggleable__content {max-height: 200px;max-width: 100%;overflow: auto;}#sk-container-id-11 input.sk-toggleable__control:checked~label.sk-toggleable__label-arrow:before {content: \"▾\";}#sk-container-id-11 div.sk-estimator input.sk-toggleable__control:checked~label.sk-toggleable__label {background-color: #d4ebff;}#sk-container-id-11 div.sk-label input.sk-toggleable__control:checked~label.sk-toggleable__label {background-color: #d4ebff;}#sk-container-id-11 input.sk-hidden--visually {border: 0;clip: rect(1px 1px 1px 1px);clip: rect(1px, 1px, 1px, 1px);height: 1px;margin: -1px;overflow: hidden;padding: 0;position: absolute;width: 1px;}#sk-container-id-11 div.sk-estimator {font-family: monospace;background-color: #f0f8ff;border: 1px dotted black;border-radius: 0.25em;box-sizing: border-box;margin-bottom: 0.5em;}#sk-container-id-11 div.sk-estimator:hover {background-color: #d4ebff;}#sk-container-id-11 div.sk-parallel-item::after {content: \"\";width: 100%;border-bottom: 1px solid gray;flex-grow: 1;}#sk-container-id-11 div.sk-label:hover label.sk-toggleable__label {background-color: #d4ebff;}#sk-container-id-11 div.sk-serial::before {content: \"\";position: absolute;border-left: 1px solid gray;box-sizing: border-box;top: 0;bottom: 0;left: 50%;z-index: 0;}#sk-container-id-11 div.sk-serial {display: flex;flex-direction: column;align-items: center;background-color: white;padding-right: 0.2em;padding-left: 0.2em;position: relative;}#sk-container-id-11 div.sk-item {position: relative;z-index: 1;}#sk-container-id-11 div.sk-parallel {display: flex;align-items: stretch;justify-content: center;background-color: white;position: relative;}#sk-container-id-11 div.sk-item::before, #sk-container-id-11 div.sk-parallel-item::before {content: \"\";position: absolute;border-left: 1px solid gray;box-sizing: border-box;top: 0;bottom: 0;left: 50%;z-index: -1;}#sk-container-id-11 div.sk-parallel-item {display: flex;flex-direction: column;z-index: 1;position: relative;background-color: white;}#sk-container-id-11 div.sk-parallel-item:first-child::after {align-self: flex-end;width: 50%;}#sk-container-id-11 div.sk-parallel-item:last-child::after {align-self: flex-start;width: 50%;}#sk-container-id-11 div.sk-parallel-item:only-child::after {width: 0;}#sk-container-id-11 div.sk-dashed-wrapped {border: 1px dashed gray;margin: 0 0.4em 0.5em 0.4em;box-sizing: border-box;padding-bottom: 0.4em;background-color: white;}#sk-container-id-11 div.sk-label label {font-family: monospace;font-weight: bold;display: inline-block;line-height: 1.2em;}#sk-container-id-11 div.sk-label-container {text-align: center;}#sk-container-id-11 div.sk-container {/* jupyter's `normalize.less` sets `[hidden] { display: none; }` but bootstrap.min.css set `[hidden] { display: none !important; }` so we also need the `!important` here to be able to override the default hidden behavior on the sphinx rendered scikit-learn.org. See: https://github.com/scikit-learn/scikit-learn/issues/21755 */display: inline-block !important;position: relative;}#sk-container-id-11 div.sk-text-repr-fallback {display: none;}</style><div id=\"sk-container-id-11\" class=\"sk-top-container\"><div class=\"sk-text-repr-fallback\"><pre>QuadraticDiscriminantAnalysis()</pre><b>In a Jupyter environment, please rerun this cell to show the HTML representation or trust the notebook. <br />On GitHub, the HTML representation is unable to render, please try loading this page with nbviewer.org.</b></div><div class=\"sk-container\" hidden><div class=\"sk-item\"><div class=\"sk-estimator sk-toggleable\"><input class=\"sk-toggleable__control sk-hidden--visually\" id=\"sk-estimator-id-11\" type=\"checkbox\" checked><label for=\"sk-estimator-id-11\" class=\"sk-toggleable__label sk-toggleable__label-arrow\">QuadraticDiscriminantAnalysis</label><div class=\"sk-toggleable__content\"><pre>QuadraticDiscriminantAnalysis()</pre></div></div></div></div></div>"
      ],
      "text/plain": [
       "QuadraticDiscriminantAnalysis()"
      ]
     },
     "execution_count": 241,
     "metadata": {},
     "output_type": "execute_result"
    }
   ],
   "source": [
    "clf.fit(train[columns].values,y)"
   ]
  },
  {
   "cell_type": "code",
   "execution_count": 242,
   "metadata": {},
   "outputs": [
    {
     "name": "stdout",
     "output_type": "stream",
     "text": [
      "Accuracy: 61.606 %\n"
     ]
    }
   ],
   "source": [
    "acc = clf.score(train[columns].values,y)\n",
    "print('Accuracy:',round(acc*100,3),'%')"
   ]
  },
  {
   "cell_type": "code",
   "execution_count": 243,
   "metadata": {},
   "outputs": [
    {
     "name": "stdout",
     "output_type": "stream",
     "text": [
      "Accuracy: 63.333 %\n"
     ]
    }
   ],
   "source": [
    "acc = clf.score(test[columns].values,y_test)\n",
    "print('Accuracy:',round(acc*100,3),'%')"
   ]
  },
  {
   "cell_type": "markdown",
   "metadata": {},
   "source": [
    "## Lista de cosas que faltan...\n",
    "\n",
    "- Evaluar metricas de micro-macro F1-score para el de clasificacion\n",
    "- Evaluar al menos 3 clases mas significativas (listo)\n",
    "- A partir del dataset original, resolver probllema de clasificacion binario (partiendo el dataset en 2) se puede unificar o tomar las 2 mas significativas. Luego resolver nuevo problema binario y evaluar metricas AUC-ROC"
   ]
  }
 ],
 "metadata": {
  "kernelspec": {
   "display_name": "Python 3.10.0 64-bit",
   "language": "python",
   "name": "python3"
  },
  "language_info": {
   "codemirror_mode": {
    "name": "ipython",
    "version": 3
   },
   "file_extension": ".py",
   "mimetype": "text/x-python",
   "name": "python",
   "nbconvert_exporter": "python",
   "pygments_lexer": "ipython3",
   "version": "3.10.0"
  },
  "orig_nbformat": 4,
  "vscode": {
   "interpreter": {
    "hash": "dd724817ebd2f637151ab7003c6e27ea24957a50d6b6ef245eeee2d95ef2c70f"
   }
  }
 },
 "nbformat": 4,
 "nbformat_minor": 2
}
